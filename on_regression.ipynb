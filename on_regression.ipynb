{
 "cells": [
  {
   "cell_type": "markdown",
   "metadata": {},
   "source": [
    "# Correlation, Regression, and Least Squares"
   ]
  },
  {
   "cell_type": "markdown",
   "metadata": {},
   "source": [
    "Run the cell below to prepare the notebook."
   ]
  },
  {
   "cell_type": "code",
   "execution_count": 1,
   "metadata": {},
   "outputs": [
    {
     "name": "stdout",
     "output_type": "stream",
     "text": [
      "=====================================================================\n",
      "Assignment: Homework 7: Correlation, Regression, and Least Squares\n",
      "OK, version v1.14.15\n",
      "=====================================================================\n",
      "\n"
     ]
    }
   ],
   "source": [
    "# Run this cell to set up the notebook, but please don't change it.\n",
    "import numpy as np\n",
    "import pandas as pd\n",
    "\n",
    "# These lines do some fancy plotting magic.\n",
    "import matplotlib\n",
    "%matplotlib inline\n",
    "import matplotlib.pyplot as plt\n",
    "plt.style.use('fivethirtyeight')\n",
    "import warnings\n",
    "warnings.simplefilter('ignore', FutureWarning)\n",
    "from matplotlib import patches\n",
    "from ipywidgets import interact, interactive, fixed\n",
    "import ipywidgets as widgets\n",
    "\n",
    "# Don't change this cell; just run it.\n",
    "from client.api.notebook import Notebook\n",
    "ok = Notebook('on_regression.ok')"
   ]
  },
  {
   "cell_type": "markdown",
   "metadata": {},
   "source": [
    "## 1. Evaluating basketball game predictions\n"
   ]
  },
  {
   "cell_type": "markdown",
   "metadata": {},
   "source": [
    "### A brief introduction to sports betting"
   ]
  },
  {
   "cell_type": "markdown",
   "metadata": {},
   "source": [
    "In a basketball game, each team scores some number of points.  Conventionally,\n",
    "the team playing at its own arena is called the \"home team,\" and the other\n",
    "team is called the \"away team.\"  The winner is the team with the most points.\n",
    "\n",
    "We can summarize what happened in a game by the \"**outcome**\", defined as\n",
    "**the away team's score minus the home team's score**:\n",
    "\n",
    "$$\\text{outcome} = \\text{points scored by the away team} - \\text{points scored\n",
    "by the home team}$$\n",
    "\n",
    "If this number is positive, the away team won.  If it's negative, the home\n",
    "team won.\n",
    "\n",
    "Casinos in Las Vegas offer bets on the outcomes of National Basketball\n",
    "Association (NBA) games.  One kind of bet works like this:\n",
    "\n",
    "1. The casino decides on a number called the \"spread.\"\n",
    "2. You can bet 11 dollars that the outcome will be above the spread, or 11\n",
    "   dollars that the outcome will be below the spread.\n",
    "3. After the game, you end up with 21 dollars if you guessed correctly, and\n",
    "   0 if you guessed incorrectly.\n",
    "\n",
    "The analysts at the casino try to choose the \"spread* value so that (according\n",
    "to their analysis of the teams) there is a 50% chance that the outcome will be\n",
    "below that value, and a 50% chance that the outcome will be above that value.\n",
    "\n",
    "**The spread is the casino's best guess at the outcome (the away team's score\n",
    "minus the home team's score).**\n",
    "\n",
    "The table `spreads` contains spreads from the betting website\n",
    "[Covers](http://www.covers.com) from every game in the 2014 NBA season, plus\n",
    "actual game outcomes."
   ]
  },
  {
   "cell_type": "code",
   "execution_count": 2,
   "metadata": {},
   "outputs": [
    {
     "data": {
      "text/html": [
       "<div>\n",
       "<style scoped>\n",
       "    .dataframe tbody tr th:only-of-type {\n",
       "        vertical-align: middle;\n",
       "    }\n",
       "\n",
       "    .dataframe tbody tr th {\n",
       "        vertical-align: top;\n",
       "    }\n",
       "\n",
       "    .dataframe thead th {\n",
       "        text-align: right;\n",
       "    }\n",
       "</style>\n",
       "<table border=\"1\" class=\"dataframe\">\n",
       "  <thead>\n",
       "    <tr style=\"text-align: right;\">\n",
       "      <th></th>\n",
       "      <th>Date</th>\n",
       "      <th>Home Team</th>\n",
       "      <th>Away Team</th>\n",
       "      <th>Home Points</th>\n",
       "      <th>Away Points</th>\n",
       "      <th>Outcome</th>\n",
       "      <th>Spread</th>\n",
       "    </tr>\n",
       "  </thead>\n",
       "  <tbody>\n",
       "    <tr>\n",
       "      <td>0</td>\n",
       "      <td>4/10/2015</td>\n",
       "      <td>Utah</td>\n",
       "      <td>Memphis</td>\n",
       "      <td>88</td>\n",
       "      <td>89</td>\n",
       "      <td>1</td>\n",
       "      <td>2.5</td>\n",
       "    </tr>\n",
       "    <tr>\n",
       "      <td>1</td>\n",
       "      <td>3/10/2015</td>\n",
       "      <td>Utah</td>\n",
       "      <td>New York</td>\n",
       "      <td>87</td>\n",
       "      <td>82</td>\n",
       "      <td>-5</td>\n",
       "      <td>-13.0</td>\n",
       "    </tr>\n",
       "    <tr>\n",
       "      <td>2</td>\n",
       "      <td>11/19/2014</td>\n",
       "      <td>Indiana</td>\n",
       "      <td>Charlotte</td>\n",
       "      <td>88</td>\n",
       "      <td>86</td>\n",
       "      <td>-2</td>\n",
       "      <td>-2.0</td>\n",
       "    </tr>\n",
       "    <tr>\n",
       "      <td>3</td>\n",
       "      <td>11/15/2014</td>\n",
       "      <td>Chicago</td>\n",
       "      <td>Indiana</td>\n",
       "      <td>90</td>\n",
       "      <td>99</td>\n",
       "      <td>9</td>\n",
       "      <td>-9.0</td>\n",
       "    </tr>\n",
       "    <tr>\n",
       "      <td>4</td>\n",
       "      <td>3/25/2015</td>\n",
       "      <td>Utah</td>\n",
       "      <td>Portland</td>\n",
       "      <td>89</td>\n",
       "      <td>92</td>\n",
       "      <td>3</td>\n",
       "      <td>-2.0</td>\n",
       "    </tr>\n",
       "  </tbody>\n",
       "</table>\n",
       "</div>"
      ],
      "text/plain": [
       "         Date Home Team   Away Team  Home Points  Away Points  Outcome  Spread\n",
       "0   4/10/2015      Utah    Memphis            88           89        1     2.5\n",
       "1   3/10/2015      Utah   New York            87           82       -5   -13.0\n",
       "2  11/19/2014   Indiana  Charlotte            88           86       -2    -2.0\n",
       "3  11/15/2014   Chicago    Indiana            90           99        9    -9.0\n",
       "4   3/25/2015      Utah   Portland            89           92        3    -2.0"
      ]
     },
     "execution_count": 2,
     "metadata": {},
     "output_type": "execute_result"
    }
   ],
   "source": [
    "spreads = pd.read_csv(\"spreads.csv\")\n",
    "spreads.head()"
   ]
  },
  {
   "cell_type": "markdown",
   "metadata": {},
   "source": [
    "Here's a scatter plot of the outcomes and spreads, with the spreads on the\n",
    "horizontal axis."
   ]
  },
  {
   "cell_type": "code",
   "execution_count": 3,
   "metadata": {},
   "outputs": [
    {
     "data": {
      "text/plain": [
       "<matplotlib.axes._subplots.AxesSubplot at 0x1cb3619bc88>"
      ]
     },
     "execution_count": 3,
     "metadata": {},
     "output_type": "execute_result"
    },
    {
     "data": {
      "image/png": "[encoded data removed]",
      "text/plain": [
       "<Figure size 432x288 with 1 Axes>"
      ]
     },
     "metadata": {
      "needs_background": "light"
     },
     "output_type": "display_data"
    }
   ],
   "source": [
    "spreads.plot.scatter(\"Spread\", \"Outcome\")"
   ]
  },
  {
   "cell_type": "markdown",
   "metadata": {},
   "source": [
    "### Question 1\n",
    "\n",
    "For reflection; why do you think that neither the spread and outcome are ever\n",
    "0 (aside from a single case of the spread being 0)?\n",
    "\n",
    "Let's investigate how well the casinos are predicting game outcomes.\n",
    "\n",
    "One question we can ask is: Is the casino's prediction correct on average? In\n",
    "other words, for every value of the spread, is the average outcome of games\n",
    "assigned that spread equal to the spread? If not, the casino would apparently\n",
    "be making a systematic error in its predictions.\n"
   ]
  },
  {
   "cell_type": "markdown",
   "metadata": {},
   "source": [
    "### Question 2\n",
    "\n",
    "Among games with a spread around 5, from 3.5 to 6.5 (including both 3.5 and\n",
    "6.5), what was the average outcome?\n",
    "\n",
    "*Hint:* Consider doing this by [combining Boolean arrays](https://matthew-brett.github.io/cfd2019/chapters/08/combining_boolean_arrays)."
   ]
  },
  {
   "cell_type": "code",
   "execution_count": 4,
   "metadata": {},
   "outputs": [
    {
     "name": "stdout",
     "output_type": "stream",
     "text": [
      "Average outcome for spreads around 5: 4.9941176470588236\n"
     ]
    }
   ],
   "source": [
    "is_lt_5 = spreads['Spread'] >= 3.5\n",
    "is_gt_5 = spreads['Spread'] <= 6.5\n",
    "betweeners = np.logical_and(is_lt_5, is_gt_5)\n",
    "spreads_around_5 = spreads[betweeners]\n",
    "spread_5_outcome_average = np.mean(spreads_around_5['Outcome'])\n",
    "print(\"Average outcome for spreads around 5:\", spread_5_outcome_average)"
   ]
  },
  {
   "cell_type": "code",
   "execution_count": 5,
   "metadata": {},
   "outputs": [
    {
     "name": "stdout",
     "output_type": "stream",
     "text": [
      "~~~~~~~~~~~~~~~~~~~~~~~~~~~~~~~~~~~~~~~~~~~~~~~~~~~~~~~~~~~~~~~~~~~~~\n",
      "Running tests\n",
      "\n",
      "---------------------------------------------------------------------\n",
      "Test summary\n",
      "    Passed: 1\n",
      "    Failed: 0\n",
      "[ooooooooook] 100.0% passed\n",
      "\n"
     ]
    }
   ],
   "source": [
    "_ = ok.grade('q1_2')"
   ]
  },
  {
   "cell_type": "markdown",
   "metadata": {},
   "source": [
    "### Question 3\n",
    "\n",
    "If the average outcome for games with any given spread turned out to be\n",
    "exactly equal to that spread, what would the slope and intercept of the linear\n",
    "regression line be, in original units?"
   ]
  },
  {
   "cell_type": "code",
   "execution_count": 6,
   "metadata": {},
   "outputs": [
    {
     "name": "stdout",
     "output_type": "stream",
     "text": [
      "LinregressResult(slope=1.0, intercept=0.0, rvalue=1.0, pvalue=9.151730320765214e-248, stderr=0.0)\n"
     ]
    }
   ],
   "source": [
    "is_equal = spreads['Spread'] == spreads['Outcome']\n",
    "equal_spread = spreads[is_equal]\n",
    "outcome_equal = equal_spread['Outcome']\n",
    "spread_equal = equal_spread['Spread']\n",
    "\n",
    "from scipy.stats import linregress\n",
    "linregress = linregress(spread_equal, outcome_equal)\n",
    "print(linregress)\n",
    "\n",
    "expected_slope_for_equal_spread = linregress.slope\n",
    "expected_intercept_for_equal_spread = linregress.intercept"
   ]
  },
  {
   "cell_type": "code",
   "execution_count": 7,
   "metadata": {},
   "outputs": [
    {
     "name": "stdout",
     "output_type": "stream",
     "text": [
      "~~~~~~~~~~~~~~~~~~~~~~~~~~~~~~~~~~~~~~~~~~~~~~~~~~~~~~~~~~~~~~~~~~~~~\n",
      "Running tests\n",
      "\n",
      "---------------------------------------------------------------------\n",
      "Test summary\n",
      "    Passed: 1\n",
      "    Failed: 0\n",
      "[ooooooooook] 100.0% passed\n",
      "\n"
     ]
    }
   ],
   "source": [
    "_ = ok.grade('q1_3')"
   ]
  },
  {
   "cell_type": "markdown",
   "metadata": {},
   "source": [
    "### Question 4\n",
    "\n",
    "Fix the `standard_units` function below.  It should take an array of numbers\n",
    "as its argument and return an array of those numbers in standard units."
   ]
  },
  {
   "cell_type": "code",
   "execution_count": 8,
   "metadata": {
    "for_assignment_type": "student"
   },
   "outputs": [],
   "source": [
    "def standard_units(nums):\n",
    "    \"\"\" Return array where every value in nums is converted to standard units.\n",
    "    \"\"\"\n",
    "    return (nums - np.mean(nums)) / np.std(nums) "
   ]
  },
  {
   "cell_type": "code",
   "execution_count": 9,
   "metadata": {},
   "outputs": [
    {
     "name": "stdout",
     "output_type": "stream",
     "text": [
      "~~~~~~~~~~~~~~~~~~~~~~~~~~~~~~~~~~~~~~~~~~~~~~~~~~~~~~~~~~~~~~~~~~~~~\n",
      "Running tests\n",
      "\n",
      "---------------------------------------------------------------------\n",
      "Test summary\n",
      "    Passed: 1\n",
      "    Failed: 0\n",
      "[ooooooooook] 100.0% passed\n",
      "\n"
     ]
    }
   ],
   "source": [
    "_ = ok.grade('q1_4')"
   ]
  },
  {
   "cell_type": "markdown",
   "metadata": {},
   "source": [
    "### Question 5\n",
    "\n",
    "Compute the correlation between outcomes and spreads using the `standard_units` function."
   ]
  },
  {
   "cell_type": "code",
   "execution_count": 10,
   "metadata": {},
   "outputs": [
    {
     "data": {
      "text/plain": [
       "0.4918141368831422"
      ]
     },
     "execution_count": 10,
     "metadata": {},
     "output_type": "execute_result"
    }
   ],
   "source": [
    "spread = spreads['Spread']\n",
    "outcome = spreads['Outcome']\n",
    "spread_su = standard_units(spread)\n",
    "outcome_su = standard_units(outcome)\n",
    "spread_r = np.mean(spread_su * outcome_su)\n",
    "spread_r"
   ]
  },
  {
   "cell_type": "code",
   "execution_count": 11,
   "metadata": {},
   "outputs": [
    {
     "name": "stdout",
     "output_type": "stream",
     "text": [
      "~~~~~~~~~~~~~~~~~~~~~~~~~~~~~~~~~~~~~~~~~~~~~~~~~~~~~~~~~~~~~~~~~~~~~\n",
      "Running tests\n",
      "\n",
      "---------------------------------------------------------------------\n",
      "Test summary\n",
      "    Passed: 1\n",
      "    Failed: 0\n",
      "[ooooooooook] 100.0% passed\n",
      "\n"
     ]
    }
   ],
   "source": [
    "_ = ok.grade('q1_5')"
   ]
  },
  {
   "cell_type": "markdown",
   "metadata": {},
   "source": [
    "### Question 6a\n",
    "\n",
    "In fact, you can use the correlation you have just calculated to give the\n",
    "least-squares linear regression line that predicts outcomes from spreads, in\n",
    "original units.\n",
    "\n",
    "To do this, you need to:\n",
    "\n",
    "* Divide the r value by the standard deviation of the original x values (here\n",
    "  the Spread values), then\n",
    "* Multiply the result by the standard deviation of the original y values (here\n",
    "  the Outcome values).\n",
    "\n",
    "Do that now to calculate the least-squares slope in original units."
   ]
  },
  {
   "cell_type": "code",
   "execution_count": 12,
   "metadata": {},
   "outputs": [
    {
     "data": {
      "text/plain": [
       "0.953926968226433"
      ]
     },
     "execution_count": 12,
     "metadata": {},
     "output_type": "execute_result"
    }
   ],
   "source": [
    "spread_slope = (spread_r / np.std(spread)) * np.std(outcome) \n",
    "spread_slope"
   ]
  },
  {
   "cell_type": "code",
   "execution_count": 13,
   "metadata": {},
   "outputs": [
    {
     "name": "stdout",
     "output_type": "stream",
     "text": [
      "~~~~~~~~~~~~~~~~~~~~~~~~~~~~~~~~~~~~~~~~~~~~~~~~~~~~~~~~~~~~~~~~~~~~~\n",
      "Running tests\n",
      "\n",
      "---------------------------------------------------------------------\n",
      "Test summary\n",
      "    Passed: 1\n",
      "    Failed: 0\n",
      "[ooooooooook] 100.0% passed\n",
      "\n"
     ]
    }
   ],
   "source": [
    "_ = ok.grade('q1_6')"
   ]
  },
  {
   "cell_type": "markdown",
   "metadata": {},
   "source": [
    "### Question 6b\n",
    "\n",
    "Confirm this is very close to the least-squares slope by using `minimize`.\n",
    "Here are your [usual tools](https://matthew-brett.github.io/cfd2019/chapters/08/using_minimize):"
   ]
  },
  {
   "cell_type": "code",
   "execution_count": 14,
   "metadata": {},
   "outputs": [],
   "source": [
    "from scipy.optimize import minimize\n",
    "\n",
    "def ss_any_line(c_s, x_values, y_values):\n",
    "    c, s = c_s\n",
    "    predicted = c + x_values * s\n",
    "    error = y_values - predicted\n",
    "    return np.sum(error ** 2)"
   ]
  },
  {
   "cell_type": "markdown",
   "metadata": {},
   "source": [
    "Now use `minimize` to re-calculate the least-squares slope:"
   ]
  },
  {
   "cell_type": "code",
   "execution_count": 15,
   "metadata": {},
   "outputs": [
    {
     "data": {
      "text/plain": [
       "0.9539269164155709"
      ]
     },
     "execution_count": 15,
     "metadata": {},
     "output_type": "execute_result"
    }
   ],
   "source": [
    "minimized_spread_slope = minimize(ss_any_line, [0, -0.5],\n",
    "                                  args=(spread, outcome)).x[1]\n",
    "minimized_spread_slope"
   ]
  },
  {
   "cell_type": "code",
   "execution_count": 16,
   "metadata": {},
   "outputs": [
    {
     "name": "stdout",
     "output_type": "stream",
     "text": [
      "~~~~~~~~~~~~~~~~~~~~~~~~~~~~~~~~~~~~~~~~~~~~~~~~~~~~~~~~~~~~~~~~~~~~~\n",
      "Running tests\n",
      "\n",
      "---------------------------------------------------------------------\n",
      "Test summary\n",
      "    Passed: 1\n",
      "    Failed: 0\n",
      "[ooooooooook] 100.0% passed\n",
      "\n"
     ]
    }
   ],
   "source": [
    "_ = ok.grade('q1_6b')"
   ]
  },
  {
   "cell_type": "markdown",
   "metadata": {},
   "source": [
    "### Question 7\n",
    "\n",
    "For the \"best fit\" line that estimates the average outcome from the spread,\n",
    "the slope is less than 1. Does knowing the slope alone tell you whether the\n",
    "average spread was higher than the average outcome? If so, set the variable\n",
    "name below to `True`. If you think you need more information than just the\n",
    "slope of the regression line to answer that question, then respond `False`.\n",
    "Briefly justify your answer below."
   ]
  },
  {
   "cell_type": "code",
   "execution_count": 17,
   "metadata": {},
   "outputs": [],
   "source": [
    "slope_implies_average_spread_above_average_outcome = False"
   ]
  },
  {
   "cell_type": "markdown",
   "metadata": {
    "manual_problem_id": "nba_7"
   },
   "source": [
    "*We need more information. The slope only tell us the relationship between 'x' and 'y', how 'y' changes with respect to 'x', but it does not tell us if the average of 'y' is higher than the average of 'x'.*"
   ]
  },
  {
   "cell_type": "code",
   "execution_count": 18,
   "metadata": {
    "lines_to_next_cell": 2
   },
   "outputs": [
    {
     "name": "stdout",
     "output_type": "stream",
     "text": [
      "~~~~~~~~~~~~~~~~~~~~~~~~~~~~~~~~~~~~~~~~~~~~~~~~~~~~~~~~~~~~~~~~~~~~~\n",
      "Running tests\n",
      "\n",
      "---------------------------------------------------------------------\n",
      "Test summary\n",
      "    Passed: 1\n",
      "    Failed: 0\n",
      "[ooooooooook] 100.0% passed\n",
      "\n"
     ]
    }
   ],
   "source": [
    "_ = ok.grade('q1_7')"
   ]
  },
  {
   "cell_type": "markdown",
   "metadata": {},
   "source": [
    "## 2. Finding the Least Squares Regression Line"
   ]
  },
  {
   "cell_type": "markdown",
   "metadata": {},
   "source": [
    "In this exercise, you'll work with a small invented data set.  Run the next\n",
    "cell to generate the dataset `d` and see a scatter plot."
   ]
  },
  {
   "cell_type": "code",
   "execution_count": 19,
   "metadata": {},
   "outputs": [
    {
     "data": {
      "text/plain": [
       "<matplotlib.axes._subplots.AxesSubplot at 0x1cb3ba6d788>"
      ]
     },
     "execution_count": 19,
     "metadata": {},
     "output_type": "execute_result"
    },
    {
     "data": {
      "image/png": "[encoded data removed]",
      "text/plain": [
       "<Figure size 432x288 with 1 Axes>"
      ]
     },
     "metadata": {
      "needs_background": "light"
     },
     "output_type": "display_data"
    }
   ],
   "source": [
    "d = pd.DataFrame()\n",
    "d['x'] = [0,  1,  2,  3,  4]\n",
    "d['y'] = [1, .5, -1,  2, -3]\n",
    "d.plot.scatter('x', 'y')"
   ]
  },
  {
   "cell_type": "markdown",
   "metadata": {},
   "source": [
    "### Question 1 (Ungraded, but you'll need the result later)"
   ]
  },
  {
   "cell_type": "markdown",
   "metadata": {},
   "source": [
    "Running the cell below will generate sliders that control the slope and\n",
    "intercept of a line through the scatter plot.  When you adjust a slider, the\n",
    "line will move.\n",
    "\n",
    "By moving the line around, make your best guess at the least-squares\n",
    "regression line.  (It's okay if your line isn't exactly right, as long as it's\n",
    "reasonable.)\n",
    "\n",
    "**Note:** Python will probably take about a second to redraw the plot each\n",
    "time you adjust the slider.  We suggest clicking the place on the slider you\n",
    "want to try and waiting for the plot to be drawn; dragging the slider handle\n",
    "around will cause a long lag."
   ]
  },
  {
   "cell_type": "code",
   "execution_count": 20,
   "metadata": {},
   "outputs": [
    {
     "data": {
      "application/vnd.jupyter.widget-view+json": {
       "model_id": "d63242bab75844918ab67e06c2a3e0bd",
       "version_major": 2,
       "version_minor": 0
      },
      "text/plain": [
       "interactive(children=(FloatSlider(value=0.0, description='intercept', max=4.0, min=-4.0), FloatSlider(value=0.…"
      ]
     },
     "metadata": {},
     "output_type": "display_data"
    }
   ],
   "source": [
    "def plot_line(intercept, slope):\n",
    "    plt.figure(figsize=(5,5))\n",
    "\n",
    "    endpoints = np.array([-2, 7])\n",
    "    p = plt.plot(endpoints, intercept + slope * endpoints,\n",
    "                 color='orange',\n",
    "                 label='Proposed line')\n",
    "\n",
    "    plt.scatter(d['x'], d['y'], color='blue', label='Points')\n",
    "\n",
    "    plt.xlim(-4, 8)\n",
    "    plt.ylim(-6, 6)\n",
    "    plt.gca().set_aspect('equal', adjustable='box')\n",
    "\n",
    "    plt.legend(bbox_to_anchor=(1.8, .8))\n",
    "    plt.show()\n",
    "\n",
    "interact(plot_line,\n",
    "         intercept=widgets.FloatSlider(min=-4, max=4, step=.1),\n",
    "         slope=widgets.FloatSlider(min=-4, max=4, step=.1));"
   ]
  },
  {
   "cell_type": "markdown",
   "metadata": {},
   "source": [
    "<div class=\"hide\">\\pagebreak</div>\n",
    "\n",
    "You can probably find a reasonable-looking line by just eyeballing it.  But\n",
    "remember: the least-squares regression line minimizes the mean of the squared\n",
    "errors made by the line for each point.  Your eye might not be able to judge\n",
    "squared errors very well.\n"
   ]
  },
  {
   "cell_type": "markdown",
   "metadata": {},
   "source": [
    "### A note on mean and total squared error"
   ]
  },
  {
   "cell_type": "markdown",
   "metadata": {},
   "source": [
    "It is common to think of the least-squares line as the line with the least\n",
    "*mean* squared error (or the square root of the mean squared error).\n",
    "\n",
    "But that it doesn't matter whether you minimize the *mean* squared error or\n",
    "the *total* squared error.  You'll get the same best line in either case.\n",
    "\n",
    "That's because the total squared error is just the mean squared error\n",
    "multiplied by the number of points (`len(d)`).  So if one line gets a better\n",
    "total squared error than another line, then it also gets a better mean squared\n",
    "error.  In particular, the line with the smallest total squared error is also\n",
    "better than every other line in terms of mean squared error.  That makes it\n",
    "the least squares line.\n",
    "\n",
    "**Minimizing the total squared error minimizes the mean squared error as\n",
    "well.**\n"
   ]
  },
  {
   "cell_type": "markdown",
   "metadata": {},
   "source": [
    "### Question 2 (Ungraded, but you'll need the result later)"
   ]
  },
  {
   "cell_type": "markdown",
   "metadata": {},
   "source": [
    "The next cell produces a more useful plot.  Use it to find a line that's\n",
    "closer to the least-squares regression line, keeping the above note in mind."
   ]
  },
  {
   "cell_type": "code",
   "execution_count": 21,
   "metadata": {},
   "outputs": [
    {
     "data": {
      "application/vnd.jupyter.widget-view+json": {
       "model_id": "88152c39a70b4b5f90dd87d2d0a519c5",
       "version_major": 2,
       "version_minor": 0
      },
      "text/plain": [
       "interactive(children=(FloatSlider(value=0.0, description='intercept', max=4.0, min=-4.0), FloatSlider(value=0.…"
      ]
     },
     "metadata": {},
     "output_type": "display_data"
    }
   ],
   "source": [
    "def plot_line_and_errors(intercept, slope):\n",
    "    plt.figure(figsize=(5,5))\n",
    "    points = np.array([-2, 7])\n",
    "    p = plt.plot(points, intercept + slope * points,\n",
    "                 color='orange',\n",
    "                 label='Proposed line')\n",
    "    ax = p[0].axes\n",
    "\n",
    "    predicted_ys = intercept + slope * d['x']\n",
    "    diffs = predicted_ys - d['y']\n",
    "    for i in np.arange(len(d)):\n",
    "        x = d['x'].iloc[i]\n",
    "        y = d['y'].iloc[i]\n",
    "        diff = diffs.iloc[i]\n",
    "\n",
    "        if diff > 0:\n",
    "            bottom_left_x = x\n",
    "            bottom_left_y = y\n",
    "        else:\n",
    "            bottom_left_x = x + diff\n",
    "            bottom_left_y = y + diff\n",
    "\n",
    "        ax.add_patch(patches.Rectangle(\n",
    "            [bottom_left_x, bottom_left_y],\n",
    "            abs(diff), abs(diff),\n",
    "            color='red', alpha=.3,\n",
    "            label=('Squared error' if i == 0 else None)))\n",
    "        plt.plot([x, x], [y, y + diff], color='red', alpha=.6,\n",
    "                 label=('Error' if i == 0 else None))\n",
    "\n",
    "    plt.scatter(d['x'], d['y'], color='blue', label='Points')\n",
    "\n",
    "    plt.xlim(-4, 8)\n",
    "    plt.ylim(-6, 6)\n",
    "    plt.gca().set_aspect('equal', adjustable='box')\n",
    "\n",
    "    plt.legend(bbox_to_anchor=(1.8, .8))\n",
    "    plt.show()\n",
    "\n",
    "interact(plot_line_and_errors,\n",
    "         intercept=widgets.FloatSlider(min=-4, max=4, step=.1),\n",
    "         slope=widgets.FloatSlider(min=-4, max=4, step=.1));"
   ]
  },
  {
   "cell_type": "markdown",
   "metadata": {},
   "source": [
    "### Question 3"
   ]
  },
  {
   "cell_type": "markdown",
   "metadata": {},
   "source": [
    "Describe the visual criterion you used to find a line in question 2.  (For\n",
    "example, a possible (but incorrect) answer is, \"I tried to make the red line\n",
    "for the bottom-right point as small as possible.\")"
   ]
  },
  {
   "cell_type": "markdown",
   "metadata": {
    "lines_to_next_cell": 2,
    "manual_problem_id": "least_squares_3"
   },
   "source": [
    "*We can say that the intercept of a line is the 'y-value' when 'x' is 0, and there is a point (0,~1) in the graph above that is not too far from the apparent 'line' formed by the rest of the points. For the slope, I tried to change its value to find a line that makes the errors (red lines) and squared errors (red squares) as small as possible on average.*"
   ]
  },
  {
   "cell_type": "markdown",
   "metadata": {},
   "source": [
    "### Question 4"
   ]
  },
  {
   "cell_type": "markdown",
   "metadata": {},
   "source": [
    "We can say that a point influences the line by how much the line would move if\n",
    "the point were removed from the data set. Does the point at (3, 2) have more\n",
    "or less influence than any other point on the location of the line?"
   ]
  },
  {
   "cell_type": "markdown",
   "metadata": {
    "manual_problem_id": "least_squares_4"
   },
   "source": [
    "*It has more influence than any other point. The point at (3, 2) is an outlier and as it is further away from the rest of the points it greatly affects the direction and steepness of the regression line.*"
   ]
  },
  {
   "cell_type": "markdown",
   "metadata": {},
   "source": [
    "Now, let's have Python find this line for us.  When we use `minimize`, Python\n",
    "goes through a process similar to the one you might have used in question 2.\n"
   ]
  },
  {
   "cell_type": "markdown",
   "metadata": {},
   "source": [
    "### Question 5"
   ]
  },
  {
   "cell_type": "markdown",
   "metadata": {},
   "source": [
    "Define a function called `total_squared_error`.  It should take two numbers as arguments:\n",
    "\n",
    "1. the intercept of some potential line\n",
    "2. the slope of some potential line\n",
    "\n",
    "It should return the total squared error when we use that line to make\n",
    "predictions for the dataset `d`.  You can use `d` inside the function -\n",
    "remember, function world can see the variables in the notebook, it just can't\n",
    "change what the variables in the notebook point to.\n",
    "\n",
    "**Hint** - you can use the `ss_any_line` function above to make your life\n",
    "easier."
   ]
  },
  {
   "cell_type": "code",
   "execution_count": 22,
   "metadata": {},
   "outputs": [],
   "source": [
    "x = d['x']\n",
    "y = d['y']\n",
    "def total_squared_error(intercept, slope):\n",
    "    predicted_y = intercept + x * slope\n",
    "    error = y - predicted_y\n",
    "    return np.sum(error **2)"
   ]
  },
  {
   "cell_type": "code",
   "execution_count": 23,
   "metadata": {
    "lines_to_next_cell": 2
   },
   "outputs": [
    {
     "name": "stdout",
     "output_type": "stream",
     "text": [
      "~~~~~~~~~~~~~~~~~~~~~~~~~~~~~~~~~~~~~~~~~~~~~~~~~~~~~~~~~~~~~~~~~~~~~\n",
      "Running tests\n",
      "\n",
      "---------------------------------------------------------------------\n",
      "Test summary\n",
      "    Passed: 1\n",
      "    Failed: 0\n",
      "[ooooooooook] 100.0% passed\n",
      "\n"
     ]
    }
   ],
   "source": [
    "_ = ok.grade('q2_5')"
   ]
  },
  {
   "cell_type": "markdown",
   "metadata": {},
   "source": [
    "### Question 6"
   ]
  },
  {
   "cell_type": "markdown",
   "metadata": {},
   "source": [
    "What is the total squared error for the line you found by \"eyeballing\" the\n",
    "errors in Question 1?  What about Question 2, where you made a guess that was\n",
    "\"aided\" by a visualization of the squared error?  (It's okay if the error went\n",
    "up, but for many students, the error will go down when using the visual aid.)"
   ]
  },
  {
   "cell_type": "code",
   "execution_count": 24,
   "metadata": {
    "for_assignment_type": "student",
    "manual_problem_id": "least_squares_6"
   },
   "outputs": [
    {
     "name": "stdout",
     "output_type": "stream",
     "text": [
      "Eyeballed error: 11.250000000000002\n",
      "Aided error: 11.049999999999997\n"
     ]
    }
   ],
   "source": [
    "eyeballed_error = total_squared_error(1.4, -0.80)\n",
    "aided_error = total_squared_error(1.2, -0.60)\n",
    "print(\"Eyeballed error:\", eyeballed_error)\n",
    "print(\"Aided error:\", aided_error)"
   ]
  },
  {
   "cell_type": "code",
   "execution_count": 25,
   "metadata": {},
   "outputs": [
    {
     "name": "stdout",
     "output_type": "stream",
     "text": [
      "~~~~~~~~~~~~~~~~~~~~~~~~~~~~~~~~~~~~~~~~~~~~~~~~~~~~~~~~~~~~~~~~~~~~~\n",
      "Running tests\n",
      "\n",
      "---------------------------------------------------------------------\n",
      "Test summary\n",
      "    Passed: 1\n",
      "    Failed: 0\n",
      "[ooooooooook] 100.0% passed\n",
      "\n"
     ]
    }
   ],
   "source": [
    "_ = ok.grade('q2_6')"
   ]
  },
  {
   "cell_type": "markdown",
   "metadata": {},
   "source": [
    "#### Question 7\n",
    "\n",
    "Use `minimize` to find the actual slope and intercept of the least-squares regression line.\n"
   ]
  },
  {
   "cell_type": "code",
   "execution_count": 26,
   "metadata": {
    "for_assignment_type": "student"
   },
   "outputs": [
    {
     "name": "stdout",
     "output_type": "stream",
     "text": [
      "Least-squares regression line: predicted_y = 1.1999999831746053 + -0.64999999533601 * x\n"
     ]
    }
   ],
   "source": [
    "minimized_slope = minimize(ss_any_line, [1, -0.5], args = (x, y))\n",
    "#- The staff solution used 1 line of code above here.\n",
    "intercept_from_minimize = minimized_slope.x[0]\n",
    "slope_from_minimize = minimized_slope.x[1]\n",
    "print(\"Least-squares regression line: predicted_y =\",\n",
    "      intercept_from_minimize,\n",
    "      \"+\",\n",
    "      slope_from_minimize,\n",
    "      '* x')"
   ]
  },
  {
   "cell_type": "code",
   "execution_count": 27,
   "metadata": {},
   "outputs": [
    {
     "name": "stdout",
     "output_type": "stream",
     "text": [
      "~~~~~~~~~~~~~~~~~~~~~~~~~~~~~~~~~~~~~~~~~~~~~~~~~~~~~~~~~~~~~~~~~~~~~\n",
      "Running tests\n",
      "\n",
      "---------------------------------------------------------------------\n",
      "Test summary\n",
      "    Passed: 1\n",
      "    Failed: 0\n",
      "[ooooooooook] 100.0% passed\n",
      "\n"
     ]
    }
   ],
   "source": [
    "_ = ok.grade('q2_7')"
   ]
  },
  {
   "cell_type": "markdown",
   "metadata": {},
   "source": [
    "### Question 8"
   ]
  },
  {
   "cell_type": "markdown",
   "metadata": {},
   "source": [
    "What was the total squared error for that line?"
   ]
  },
  {
   "cell_type": "code",
   "execution_count": 28,
   "metadata": {},
   "outputs": [
    {
     "data": {
      "text/plain": [
       "10.975000000000003"
      ]
     },
     "execution_count": 28,
     "metadata": {},
     "output_type": "execute_result"
    }
   ],
   "source": [
    "best_total_squared_error = minimized_slope.fun\n",
    "best_total_squared_error"
   ]
  },
  {
   "cell_type": "code",
   "execution_count": 29,
   "metadata": {},
   "outputs": [
    {
     "name": "stdout",
     "output_type": "stream",
     "text": [
      "~~~~~~~~~~~~~~~~~~~~~~~~~~~~~~~~~~~~~~~~~~~~~~~~~~~~~~~~~~~~~~~~~~~~~\n",
      "Running tests\n",
      "\n",
      "---------------------------------------------------------------------\n",
      "Test summary\n",
      "    Passed: 1\n",
      "    Failed: 0\n",
      "[ooooooooook] 100.0% passed\n",
      "\n"
     ]
    }
   ],
   "source": [
    "_ = ok.grade('q2_8')"
   ]
  },
  {
   "cell_type": "markdown",
   "metadata": {},
   "source": [
    "Finally, run the following cell to plot this \"best fit\" line and its errors:"
   ]
  },
  {
   "cell_type": "code",
   "execution_count": 30,
   "metadata": {},
   "outputs": [
    {
     "data": {
      "image/png": "[encoded data removed]",
      "text/plain": [
       "<Figure size 360x360 with 1 Axes>"
      ]
     },
     "metadata": {
      "needs_background": "light"
     },
     "output_type": "display_data"
    }
   ],
   "source": [
    "plot_line_and_errors(intercept_from_minimize, slope_from_minimize)"
   ]
  },
  {
   "cell_type": "markdown",
   "metadata": {},
   "source": [
    "## 3. Triple Jump Distances vs. Vertical Jump Heights"
   ]
  },
  {
   "cell_type": "markdown",
   "metadata": {},
   "source": [
    "Does skill in one sport imply skill in a related sport?  The answer might be\n",
    "different for different activities.  Let us find out whether it's true for the\n",
    "[triple jump](https://en.wikipedia.org/wiki/Triple_jump) (an horizontal jump\n",
    "similar to a long jump) and the vertical jump.  Since we're learning about\n",
    "linear regression, we will look specifically for a *linear* association\n",
    "between skill in the two sports.\n",
    "\n",
    "The following data was collected by observing 40 college level soccer players.\n",
    "Each athlete's distance in both jump activities was measured in centimeters.\n",
    "Run the cell below to load the data."
   ]
  },
  {
   "cell_type": "code",
   "execution_count": 31,
   "metadata": {},
   "outputs": [
    {
     "data": {
      "text/html": [
       "<div>\n",
       "<style scoped>\n",
       "    .dataframe tbody tr th:only-of-type {\n",
       "        vertical-align: middle;\n",
       "    }\n",
       "\n",
       "    .dataframe tbody tr th {\n",
       "        vertical-align: top;\n",
       "    }\n",
       "\n",
       "    .dataframe thead th {\n",
       "        text-align: right;\n",
       "    }\n",
       "</style>\n",
       "<table border=\"1\" class=\"dataframe\">\n",
       "  <thead>\n",
       "    <tr style=\"text-align: right;\">\n",
       "      <th></th>\n",
       "      <th>triple</th>\n",
       "      <th>vertical</th>\n",
       "    </tr>\n",
       "  </thead>\n",
       "  <tbody>\n",
       "    <tr>\n",
       "      <td>0</td>\n",
       "      <td>383.00</td>\n",
       "      <td>33.00</td>\n",
       "    </tr>\n",
       "    <tr>\n",
       "      <td>1</td>\n",
       "      <td>781.00</td>\n",
       "      <td>71.10</td>\n",
       "    </tr>\n",
       "    <tr>\n",
       "      <td>2</td>\n",
       "      <td>561.62</td>\n",
       "      <td>62.25</td>\n",
       "    </tr>\n",
       "    <tr>\n",
       "      <td>3</td>\n",
       "      <td>624.52</td>\n",
       "      <td>61.33</td>\n",
       "    </tr>\n",
       "    <tr>\n",
       "      <td>4</td>\n",
       "      <td>446.24</td>\n",
       "      <td>40.19</td>\n",
       "    </tr>\n",
       "  </tbody>\n",
       "</table>\n",
       "</div>"
      ],
      "text/plain": [
       "   triple  vertical\n",
       "0  383.00     33.00\n",
       "1  781.00     71.10\n",
       "2  561.62     62.25\n",
       "3  624.52     61.33\n",
       "4  446.24     40.19"
      ]
     },
     "execution_count": 31,
     "metadata": {},
     "output_type": "execute_result"
    }
   ],
   "source": [
    "# Run this cell to load the data\n",
    "jumps = pd.read_csv('triple_vertical.csv')\n",
    "jumps.head()"
   ]
  },
  {
   "cell_type": "markdown",
   "metadata": {},
   "source": [
    "### Question 1"
   ]
  },
  {
   "cell_type": "markdown",
   "metadata": {},
   "source": [
    "Before running a regression, it's important to see what the data look like,\n",
    "because our eyes are good at picking out unusual patterns in data.  Draw a\n",
    "scatter plot with the triple jump distances on the horizontal axis and the\n",
    "vertical jump heights on vertical axis.\n",
    "\n",
    "Use "
   ]
  },
  {
   "cell_type": "code",
   "execution_count": 32,
   "metadata": {
    "manual_problem_id": "jumping_1"
   },
   "outputs": [
    {
     "data": {
      "text/plain": [
       "<matplotlib.axes._subplots.AxesSubplot at 0x1cb3bcbc448>"
      ]
     },
     "execution_count": 32,
     "metadata": {},
     "output_type": "execute_result"
    },
    {
     "data": {
      "image/png": "[encoded data removed]",
      "text/plain": [
       "<Figure size 432x288 with 1 Axes>"
      ]
     },
     "metadata": {
      "needs_background": "light"
     },
     "output_type": "display_data"
    }
   ],
   "source": [
    "jumps.plot.scatter('triple', 'vertical')"
   ]
  },
  {
   "cell_type": "markdown",
   "metadata": {},
   "source": [
    "**Question 2** If you were to calculate the *correlation coefficient* `r`, do\n",
    "you think it would be closer to 0, .5, or -.5? Explain."
   ]
  },
  {
   "cell_type": "markdown",
   "metadata": {
    "lines_to_next_cell": 2,
    "manual_problem_id": "jumping_2"
   },
   "source": [
    "*It would be closer to 0.5 because the scatter plot shows that when the horizontal axis increases, the vertical axis also increases. Therefore, there is a positive correlation between the two variables.* "
   ]
  },
  {
   "cell_type": "markdown",
   "metadata": {},
   "source": [
    "### Question 3"
   ]
  },
  {
   "cell_type": "markdown",
   "metadata": {},
   "source": [
    "Create a function called `regression_parameters`. It takes as its argument a\n",
    "table with two columns.  The first column is the x-axis, and the second column\n",
    "is the y-axis.  It should compute the intercept and slope of the regression\n",
    "line that predicts the second column from the first, in original units\n",
    "(centimeters).  It should return an array with two elements: the intercept of\n",
    "the regression line, and the slope of the regression line."
   ]
  },
  {
   "cell_type": "code",
   "execution_count": 33,
   "metadata": {
    "for_assignment_type": "student"
   },
   "outputs": [
    {
     "name": "stdout",
     "output_type": "stream",
     "text": [
      "Intercept: -1.5665115305153579\n",
      "Slope: 0.09295726058787437\n"
     ]
    }
   ],
   "source": [
    "def regression_parameters(t):\n",
    "    minimized_t = minimize(ss_any_line, [1, 0.5], args = (t.iloc[:, 0], t.iloc[:, 1]))\n",
    "    #- Our solution had 1 line above this one\n",
    "    intercept = minimized_t.x[0]\n",
    "    slope = minimized_t.x[1]\n",
    "    return np.array([intercept, slope])\n",
    "\n",
    "# When your function is finished, the next lines should\n",
    "# compute the regression line predicting vertical jump\n",
    "# distances from triple jump distances.\n",
    "parameters = regression_parameters(jumps)\n",
    "print('Intercept:', parameters[0])\n",
    "print('Slope:', parameters[1])"
   ]
  },
  {
   "cell_type": "code",
   "execution_count": 34,
   "metadata": {},
   "outputs": [
    {
     "name": "stdout",
     "output_type": "stream",
     "text": [
      "~~~~~~~~~~~~~~~~~~~~~~~~~~~~~~~~~~~~~~~~~~~~~~~~~~~~~~~~~~~~~~~~~~~~~\n",
      "Running tests\n",
      "\n",
      "---------------------------------------------------------------------\n",
      "Test summary\n",
      "    Passed: 1\n",
      "    Failed: 0\n",
      "[ooooooooook] 100.0% passed\n",
      "\n"
     ]
    }
   ],
   "source": [
    "_ = ok.grade('q3_3')"
   ]
  },
  {
   "cell_type": "markdown",
   "metadata": {},
   "source": [
    "### Question 4"
   ]
  },
  {
   "cell_type": "markdown",
   "metadata": {},
   "source": [
    "Let's use `regression_parameters` to predict what certain athletes' vertical jump heights would be given their triple jump distances.\n",
    "\n",
    "The world record for the triple jump distance is 18.29 *meters* by Johnathan\n",
    "Edwards. What's our prediction for what Edwards' vertical jump would be?"
   ]
  },
  {
   "cell_type": "code",
   "execution_count": 35,
   "metadata": {},
   "outputs": [
    {
     "name": "stdout",
     "output_type": "stream",
     "text": [
      "Predicted vertical jump distance: 168.452318 centimeters\n"
     ]
    }
   ],
   "source": [
    "triple_record_vert_est = regression_parameters(jumps)[0] + 1829 * regression_parameters(jumps)[1]\n",
    "print(\"Predicted vertical jump distance: {:f} centimeters\".format(triple_record_vert_est))"
   ]
  },
  {
   "cell_type": "code",
   "execution_count": 36,
   "metadata": {},
   "outputs": [
    {
     "name": "stdout",
     "output_type": "stream",
     "text": [
      "~~~~~~~~~~~~~~~~~~~~~~~~~~~~~~~~~~~~~~~~~~~~~~~~~~~~~~~~~~~~~~~~~~~~~\n",
      "Running tests\n",
      "\n",
      "---------------------------------------------------------------------\n",
      "Test summary\n",
      "    Passed: 1\n",
      "    Failed: 0\n",
      "[ooooooooook] 100.0% passed\n",
      "\n"
     ]
    }
   ],
   "source": [
    "_ = ok.grade('q3_4')"
   ]
  },
  {
   "cell_type": "markdown",
   "metadata": {},
   "source": [
    "### Question 5\n",
    "\n",
    "Do you expect this estimate to be accurate within a few centimeters? Why or\n",
    "why not?"
   ]
  },
  {
   "cell_type": "code",
   "execution_count": 37,
   "metadata": {},
   "outputs": [
    {
     "data": {
      "text/plain": [
       "LinregressResult(slope=0.09295728160512183, intercept=-1.5665209729634668, rvalue=0.8343076972837596, pvalue=2.269638858018966e-11, stderr=0.009964433825057805)"
      ]
     },
     "execution_count": 37,
     "metadata": {},
     "output_type": "execute_result"
    }
   ],
   "source": [
    "from scipy.stats import linregress\n",
    "linregress_vertical_by_triple = linregress(jumps['triple'], jumps['vertical'])\n",
    "linregress_vertical_by_triple"
   ]
  },
  {
   "cell_type": "markdown",
   "metadata": {
    "lines_to_next_cell": 2,
    "manual_problem_id": "jumping_5"
   },
   "source": [
    "*Yes, because there is a strong significant correlation between the vertical and triple jump values (0.8343, p-value = 0). Therefore, the best fit regression line calculated will allow us to predict accurately the vertical jump value corresponding to any given triple jump value. However, it is worth mentioning that the triple jump record is quite far from the points with which the regression line was calculated. For a more accurate result it would be preferable to have more data in between and recalculate the regression line.*"
   ]
  },
  {
   "cell_type": "markdown",
   "metadata": {},
   "source": [
    "## 4. Testing Relationship Ratings"
   ]
  },
  {
   "cell_type": "markdown",
   "metadata": {},
   "source": [
    "Throughout this part of the homework, we will be interested in learning how\n",
    "different factors can contribute to the rating couples give their\n",
    "relationship, on a scale of 1-5 (1 being most satisfied, and 5 being the\n",
    "least).\n",
    "\n",
    "To do this, we will be looking at the table that is loaded below.\n",
    "\n",
    "**Note:** The data in this table is quite dated; for example, it only includes\n",
    "heterosexual relationships. A better dataset would contain a more accurate\n",
    "sample of couples. When drawing conclusions from data, it is important to be\n",
    "aware of biases that exist in the dataset."
   ]
  },
  {
   "cell_type": "code",
   "execution_count": 38,
   "metadata": {},
   "outputs": [
    {
     "data": {
      "text/html": [
       "<div>\n",
       "<style scoped>\n",
       "    .dataframe tbody tr th:only-of-type {\n",
       "        vertical-align: middle;\n",
       "    }\n",
       "\n",
       "    .dataframe tbody tr th {\n",
       "        vertical-align: top;\n",
       "    }\n",
       "\n",
       "    .dataframe thead th {\n",
       "        text-align: right;\n",
       "    }\n",
       "</style>\n",
       "<table border=\"1\" class=\"dataframe\">\n",
       "  <thead>\n",
       "    <tr style=\"text-align: right;\">\n",
       "      <th></th>\n",
       "      <th>ID</th>\n",
       "      <th>Gender</th>\n",
       "      <th>Marital Status</th>\n",
       "      <th>Relationship Rating</th>\n",
       "      <th>Age</th>\n",
       "      <th>Education</th>\n",
       "      <th>Household Income</th>\n",
       "      <th>Employment Status</th>\n",
       "    </tr>\n",
       "  </thead>\n",
       "  <tbody>\n",
       "    <tr>\n",
       "      <td>0</td>\n",
       "      <td>0</td>\n",
       "      <td>male</td>\n",
       "      <td>married</td>\n",
       "      <td>1</td>\n",
       "      <td>51</td>\n",
       "      <td>Bachelor's degree</td>\n",
       "      <td>75,000 to 84,999</td>\n",
       "      <td>working as paid employee</td>\n",
       "    </tr>\n",
       "    <tr>\n",
       "      <td>1</td>\n",
       "      <td>0</td>\n",
       "      <td>female</td>\n",
       "      <td>married</td>\n",
       "      <td>1</td>\n",
       "      <td>53</td>\n",
       "      <td>High school graduate - diploma or the equivale...</td>\n",
       "      <td>75,000 to 84,999</td>\n",
       "      <td>working as paid employee</td>\n",
       "    </tr>\n",
       "    <tr>\n",
       "      <td>2</td>\n",
       "      <td>1</td>\n",
       "      <td>male</td>\n",
       "      <td>married</td>\n",
       "      <td>1</td>\n",
       "      <td>57</td>\n",
       "      <td>Associate degree</td>\n",
       "      <td>85,000 to 99,999</td>\n",
       "      <td>working as paid employee</td>\n",
       "    </tr>\n",
       "    <tr>\n",
       "      <td>3</td>\n",
       "      <td>1</td>\n",
       "      <td>female</td>\n",
       "      <td>married</td>\n",
       "      <td>1</td>\n",
       "      <td>57</td>\n",
       "      <td>High school graduate - diploma or the equivale...</td>\n",
       "      <td>85,000 to 99,999</td>\n",
       "      <td>working as paid employee</td>\n",
       "    </tr>\n",
       "    <tr>\n",
       "      <td>4</td>\n",
       "      <td>2</td>\n",
       "      <td>male</td>\n",
       "      <td>married</td>\n",
       "      <td>1</td>\n",
       "      <td>60</td>\n",
       "      <td>Bachelor's degree</td>\n",
       "      <td>75,000 to 84,999</td>\n",
       "      <td>working as paid employee</td>\n",
       "    </tr>\n",
       "  </tbody>\n",
       "</table>\n",
       "</div>"
      ],
      "text/plain": [
       "   ID  Gender Marital Status  Relationship Rating  Age  \\\n",
       "0   0    male        married                    1   51   \n",
       "1   0  female        married                    1   53   \n",
       "2   1    male        married                    1   57   \n",
       "3   1  female        married                    1   57   \n",
       "4   2    male        married                    1   60   \n",
       "\n",
       "                                           Education  Household Income  \\\n",
       "0                                  Bachelor's degree  75,000 to 84,999   \n",
       "1  High school graduate - diploma or the equivale...  75,000 to 84,999   \n",
       "2                                   Associate degree  85,000 to 99,999   \n",
       "3  High school graduate - diploma or the equivale...  85,000 to 99,999   \n",
       "4                                  Bachelor's degree  75,000 to 84,999   \n",
       "\n",
       "          Employment Status  \n",
       "0  working as paid employee  \n",
       "1  working as paid employee  \n",
       "2  working as paid employee  \n",
       "3  working as paid employee  \n",
       "4  working as paid employee  "
      ]
     },
     "execution_count": 38,
     "metadata": {},
     "output_type": "execute_result"
    }
   ],
   "source": [
    "couples = pd.read_csv('couples.csv')\n",
    "couples.head()"
   ]
  },
  {
   "cell_type": "markdown",
   "metadata": {},
   "source": [
    "Looking at the table above, we note that we should be able to test whether\n",
    "different factors can affect the relationship rating, from age to education.\n",
    "To begin, we are first going to investigate whether *marital status* has an\n",
    "effect on relationship rating. In order to accomplish this, we are going to do\n",
    "a permutation test!\n"
   ]
  },
  {
   "cell_type": "markdown",
   "metadata": {},
   "source": [
    "### Question 1\n",
    "\n",
    "State the *null hypothesis* for such a test (assume we aren't trying to figure\n",
    "out ***how*** marital status affects relationship rating, just whether or not\n",
    "it does).\n",
    "\n",
    "Remember the *null hypothesis* is a specification of the ideal world in which\n",
    "there is *not any* effect."
   ]
  },
  {
   "cell_type": "markdown",
   "metadata": {
    "for_assignment_type": "student"
   },
   "source": [
    "**Answer:**\n",
    "\n",
    "Null hypothesis: There is no significant association between marital status and relationship rating. \n"
   ]
  },
  {
   "cell_type": "markdown",
   "metadata": {},
   "source": [
    "### Question 2\n",
    "\n",
    "Before we continue, we will have to talk about the notion of a contingency\n",
    "table.\n",
    "\n",
    "Define `contingency` to be a data frame where the rows represent unique values\n",
    "of the relationship ratings, the columns represent the unique values of\n",
    "marital status present in the table, and the values in each cell represent the\n",
    "number of individuals with a given marital status and relationship rating.\n",
    "\n",
    "**Hint** use the Pandas `crosstab` function."
   ]
  },
  {
   "cell_type": "code",
   "execution_count": 39,
   "metadata": {},
   "outputs": [
    {
     "data": {
      "text/html": [
       "<div>\n",
       "<style scoped>\n",
       "    .dataframe tbody tr th:only-of-type {\n",
       "        vertical-align: middle;\n",
       "    }\n",
       "\n",
       "    .dataframe tbody tr th {\n",
       "        vertical-align: top;\n",
       "    }\n",
       "\n",
       "    .dataframe thead th {\n",
       "        text-align: right;\n",
       "    }\n",
       "</style>\n",
       "<table border=\"1\" class=\"dataframe\">\n",
       "  <thead>\n",
       "    <tr style=\"text-align: right;\">\n",
       "      <th>Marital Status</th>\n",
       "      <th>married</th>\n",
       "      <th>partner</th>\n",
       "    </tr>\n",
       "    <tr>\n",
       "      <th>Relationship Rating</th>\n",
       "      <th></th>\n",
       "      <th></th>\n",
       "    </tr>\n",
       "  </thead>\n",
       "  <tbody>\n",
       "    <tr>\n",
       "      <td>1</td>\n",
       "      <td>1023</td>\n",
       "      <td>290</td>\n",
       "    </tr>\n",
       "    <tr>\n",
       "      <td>2</td>\n",
       "      <td>373</td>\n",
       "      <td>229</td>\n",
       "    </tr>\n",
       "    <tr>\n",
       "      <td>3</td>\n",
       "      <td>39</td>\n",
       "      <td>26</td>\n",
       "    </tr>\n",
       "    <tr>\n",
       "      <td>4</td>\n",
       "      <td>35</td>\n",
       "      <td>30</td>\n",
       "    </tr>\n",
       "    <tr>\n",
       "      <td>5</td>\n",
       "      <td>14</td>\n",
       "      <td>7</td>\n",
       "    </tr>\n",
       "  </tbody>\n",
       "</table>\n",
       "</div>"
      ],
      "text/plain": [
       "Marital Status       married  partner\n",
       "Relationship Rating                  \n",
       "1                       1023      290\n",
       "2                        373      229\n",
       "3                         39       26\n",
       "4                         35       30\n",
       "5                         14        7"
      ]
     },
     "execution_count": 39,
     "metadata": {},
     "output_type": "execute_result"
    }
   ],
   "source": [
    "contingency = pd.crosstab(couples['Relationship Rating'], couples['Marital Status'])\n",
    "contingency"
   ]
  },
  {
   "cell_type": "code",
   "execution_count": 40,
   "metadata": {},
   "outputs": [
    {
     "name": "stdout",
     "output_type": "stream",
     "text": [
      "~~~~~~~~~~~~~~~~~~~~~~~~~~~~~~~~~~~~~~~~~~~~~~~~~~~~~~~~~~~~~~~~~~~~~\n",
      "Running tests\n",
      "\n",
      "---------------------------------------------------------------------\n",
      "Test summary\n",
      "    Passed: 1\n",
      "    Failed: 0\n",
      "[ooooooooook] 100.0% passed\n",
      "\n"
     ]
    }
   ],
   "source": [
    "_ = ok.grade('q4_2')"
   ]
  },
  {
   "cell_type": "markdown",
   "metadata": {},
   "source": [
    "### Question 3\n",
    "\n",
    "It is difficult to identify a pattern in the above table, since our table has\n",
    "so many more married people than it does unmarried. To rectify this, we will\n",
    "instead compute proportions.\n",
    "\n",
    "Assign `contingency_prop` to a table with the same columns and rows, but the\n",
    "values are instead in proportions, i.e. the value in the cell corresponding to\n",
    "a relationship rating of 1 and marital status of \"married\" should be the\n",
    "proportion of married people who gave their relationship a 1.  In other words,\n",
    "replace the values by the proportion of all counts in the matching *column*."
   ]
  },
  {
   "cell_type": "code",
   "execution_count": 41,
   "metadata": {
    "for_assignment_type": "student"
   },
   "outputs": [
    {
     "data": {
      "text/html": [
       "<div>\n",
       "<style scoped>\n",
       "    .dataframe tbody tr th:only-of-type {\n",
       "        vertical-align: middle;\n",
       "    }\n",
       "\n",
       "    .dataframe tbody tr th {\n",
       "        vertical-align: top;\n",
       "    }\n",
       "\n",
       "    .dataframe thead th {\n",
       "        text-align: right;\n",
       "    }\n",
       "</style>\n",
       "<table border=\"1\" class=\"dataframe\">\n",
       "  <thead>\n",
       "    <tr style=\"text-align: right;\">\n",
       "      <th>Marital Status</th>\n",
       "      <th>married</th>\n",
       "      <th>partner</th>\n",
       "    </tr>\n",
       "    <tr>\n",
       "      <th>Relationship Rating</th>\n",
       "      <th></th>\n",
       "      <th></th>\n",
       "    </tr>\n",
       "  </thead>\n",
       "  <tbody>\n",
       "    <tr>\n",
       "      <td>1</td>\n",
       "      <td>0.689353</td>\n",
       "      <td>0.498282</td>\n",
       "    </tr>\n",
       "    <tr>\n",
       "      <td>2</td>\n",
       "      <td>0.251348</td>\n",
       "      <td>0.393471</td>\n",
       "    </tr>\n",
       "    <tr>\n",
       "      <td>3</td>\n",
       "      <td>0.026280</td>\n",
       "      <td>0.044674</td>\n",
       "    </tr>\n",
       "    <tr>\n",
       "      <td>4</td>\n",
       "      <td>0.023585</td>\n",
       "      <td>0.051546</td>\n",
       "    </tr>\n",
       "    <tr>\n",
       "      <td>5</td>\n",
       "      <td>0.009434</td>\n",
       "      <td>0.012027</td>\n",
       "    </tr>\n",
       "  </tbody>\n",
       "</table>\n",
       "</div>"
      ],
      "text/plain": [
       "Marital Status        married   partner\n",
       "Relationship Rating                    \n",
       "1                    0.689353  0.498282\n",
       "2                    0.251348  0.393471\n",
       "3                    0.026280  0.044674\n",
       "4                    0.023585  0.051546\n",
       "5                    0.009434  0.012027"
      ]
     },
     "execution_count": 41,
     "metadata": {},
     "output_type": "execute_result"
    }
   ],
   "source": [
    "contingency_prop = pd.crosstab(couples['Relationship Rating'], couples['Marital Status'], normalize = 'columns')\n",
    "contingency_prop"
   ]
  },
  {
   "cell_type": "code",
   "execution_count": 42,
   "metadata": {},
   "outputs": [
    {
     "name": "stdout",
     "output_type": "stream",
     "text": [
      "~~~~~~~~~~~~~~~~~~~~~~~~~~~~~~~~~~~~~~~~~~~~~~~~~~~~~~~~~~~~~~~~~~~~~\n",
      "Running tests\n",
      "\n",
      "---------------------------------------------------------------------\n",
      "Test summary\n",
      "    Passed: 2\n",
      "    Failed: 0\n",
      "[ooooooooook] 100.0% passed\n",
      "\n"
     ]
    }
   ],
   "source": [
    "_ = ok.grade('q4_3')"
   ]
  },
  {
   "cell_type": "markdown",
   "metadata": {},
   "source": [
    "## Question 4\n",
    "\n",
    "The `married` column of `contingency_prop` now contains proportions of married\n",
    "people who gave ratings 1, 2, 3, 4, 5, and the `partner` column has the\n",
    "equivalent proportions for the not-married people.\n",
    "\n",
    "We would like to have some measure of the difference `married` and `partner` proportions.\n",
    "\n",
    "One way of doing this is called *Total Variation Distance* (TVD).\n",
    "\n",
    "It works like this: for each of the five proportions we subtract the `partner`\n",
    "proportion from the `married` proportion, and then knock of any minus signs by\n",
    "taking the absolute value.   We end up with five absolute differences of\n",
    "proportions.  The TVD is the sum of these five absolute differences divided by\n",
    "two.\n",
    "\n",
    "Assign `tvd_marriages` to the Total Variation Distance between the\n",
    "distributions of married people's relationship ratings and unmarried people's\n",
    "relationship ratings."
   ]
  },
  {
   "cell_type": "code",
   "execution_count": 43,
   "metadata": {},
   "outputs": [
    {
     "data": {
      "text/plain": [
       "0.19107131278887746"
      ]
     },
     "execution_count": 43,
     "metadata": {},
     "output_type": "execute_result"
    }
   ],
   "source": [
    "tvd_marriages = np.sum(np.abs(contingency_prop['married'] - contingency_prop['partner'])) / 2\n",
    "tvd_marriages"
   ]
  },
  {
   "cell_type": "code",
   "execution_count": 44,
   "metadata": {},
   "outputs": [
    {
     "name": "stdout",
     "output_type": "stream",
     "text": [
      "~~~~~~~~~~~~~~~~~~~~~~~~~~~~~~~~~~~~~~~~~~~~~~~~~~~~~~~~~~~~~~~~~~~~~\n",
      "Running tests\n",
      "\n",
      "---------------------------------------------------------------------\n",
      "Test summary\n",
      "    Passed: 1\n",
      "    Failed: 0\n",
      "[ooooooooook] 100.0% passed\n",
      "\n"
     ]
    }
   ],
   "source": [
    "_ = ok.grade('q4_4')"
   ]
  },
  {
   "cell_type": "markdown",
   "metadata": {},
   "source": [
    "### Question 5\n",
    "\n",
    "Let's get more general now. Define the function `tvd` which takes in:\n",
    "\n",
    "- any table like `couples`\n",
    "- `conditions`: the name of a column like Relationship Rating\n",
    "- `values`: the name of a column like Marital Status\n",
    "\n",
    "The function should return the total variation distance between the\n",
    "distribution of conditions in the first unique value of `values` and the\n",
    "distribution of conditions in the second unique value of `values` (assume\n",
    "there are only two unique values)\n",
    "\n",
    "***Hint***: This looks daunting, but you are just generalizing the code you\n",
    "have written in the cells above."
   ]
  },
  {
   "cell_type": "code",
   "execution_count": 45,
   "metadata": {
    "for_assignment_type": "student"
   },
   "outputs": [
    {
     "data": {
      "text/plain": [
       "0.19107131278887746"
      ]
     },
     "execution_count": 45,
     "metadata": {},
     "output_type": "execute_result"
    }
   ],
   "source": [
    "def tvd(t, conditions, values):\n",
    "    crosstab_prop = pd.crosstab(t[conditions], t[values], normalize = 'columns')\n",
    "    abs_diff = np.abs(crosstab_prop.iloc[:,0] - crosstab_prop.iloc[:,1]) \n",
    "    return np.sum(abs_diff) / 2\n",
    "\n",
    "# This should give the same answer as the cell above.\n",
    "tvd(couples, 'Relationship Rating', 'Marital Status')"
   ]
  },
  {
   "cell_type": "code",
   "execution_count": 46,
   "metadata": {},
   "outputs": [
    {
     "name": "stdout",
     "output_type": "stream",
     "text": [
      "~~~~~~~~~~~~~~~~~~~~~~~~~~~~~~~~~~~~~~~~~~~~~~~~~~~~~~~~~~~~~~~~~~~~~\n",
      "Running tests\n",
      "\n",
      "---------------------------------------------------------------------\n",
      "Test summary\n",
      "    Passed: 1\n",
      "    Failed: 0\n",
      "[ooooooooook] 100.0% passed\n",
      "\n"
     ]
    }
   ],
   "source": [
    "_ = ok.grade('q4_5')"
   ]
  },
  {
   "cell_type": "markdown",
   "metadata": {},
   "source": [
    "### Question 6\n",
    "\n",
    "Now that we have a valid test statistic, fill in the implementation of\n",
    "`permutation_test` below. It should run a permutation test to check whether\n",
    "conditions and values are related, where conditions and values are defined as\n",
    "above.\n",
    "\n",
    "**Hint** by saying conditions are and values are not related, we are saying\n",
    "that the pairing between conditions is random.\n",
    "\n",
    "The inputs to the function are:\n",
    "\n",
    "- `t`: a table containing our data\n",
    "- `conditions`: the name of the column in `t` representing our conditions\n",
    "- `values`: the name of the column in `t` representing our values\n",
    "- `repetitions`: the number of permutations we'd like to test.\n",
    "- `statistic`: a test statistic function (such as `tvd`).\n",
    "\n",
    "The return value should be the p-value of seeing the observed value assuming\n",
    "the null hypothesis. Fill in the implementation as necessary; we have also\n",
    "provided code which allows you to see an empirical histogram of the\n",
    "distribution under the null."
   ]
  },
  {
   "cell_type": "code",
   "execution_count": 47,
   "metadata": {},
   "outputs": [
    {
     "data": {
      "text/plain": [
       "0.0"
      ]
     },
     "execution_count": 47,
     "metadata": {},
     "output_type": "execute_result"
    },
    {
     "data": {
      "image/png": "[encoded data removed]",
      "text/plain": [
       "<Figure size 432x288 with 1 Axes>"
      ]
     },
     "metadata": {
      "needs_background": "light"
     },
     "output_type": "display_data"
    }
   ],
   "source": [
    "def permutation_test(t, conditions, values, repetitions, statistic):\n",
    "    observed_stat = statistic(t, conditions, values)\n",
    "    fake_stats = np.zeros(repetitions)\n",
    "    # Values as an array, for shuffling.\n",
    "    to_shuffle = np.array(t[values])\n",
    "\n",
    "    for i in np.arange(repetitions):\n",
    "        # Shuffle the values\n",
    "        np.random.shuffle(to_shuffle)\n",
    "        shuffled_df = t.copy()\n",
    "        shuffled_df[values] = to_shuffle\n",
    "        fake_stats[i] = statistic(shuffled_df, conditions, values)\n",
    "    \n",
    "    p_value = np.count_nonzero(fake_stats >= observed_stat) / repetitions\n",
    "    # Show the sampling distribution\n",
    "    plt.hist(fake_stats, bins=np.arange(-.02, .12, .02))\n",
    "    plt.title('Empirical distribution of TVD')\n",
    "    return p_value\n",
    "\n",
    "permutation_test(couples, 'Relationship Rating', 'Marital Status', 200, tvd)"
   ]
  },
  {
   "cell_type": "markdown",
   "metadata": {},
   "source": [
    "### Question 7\n",
    "\n",
    "Based on the above method, should we reject the null hypothesis that the relationship ratings and marital status are uncorrelated, or should we fail to reject? Why?\n"
   ]
  },
  {
   "cell_type": "markdown",
   "metadata": {},
   "source": [
    "*We should reject the null hypothesis because the probability of finding a TVD = 0.19 (the TVD observed in the 'couples' data frame) in a random distribution (shuffled data frame) is 0. Therefore, the TVD value (0.19) is due to a statistically significant association between marital status and relationship ratings* "
   ]
  },
  {
   "cell_type": "markdown",
   "metadata": {},
   "source": [
    "## Done\n",
    "\n",
    "You're finished with the assignment!  Be sure to...\n",
    "\n",
    "- **run all the tests** (the next cell has a shortcut for that),\n",
    "- **Save and Checkpoint** from the \"File\" menu.\n",
    "- Finally, **restart** the kernel for this notebook, and **run all the\n",
    "  cells**, to check that the notebook still works without errors.  Use the\n",
    "  \"Kernel\" menu, and choose \"Restart and run all\".  If you find any problems,\n",
    "  go back and fix them, save the notebook, and restart / run all again, before\n",
    "  submitting.  When you do this, you make sure that we, your humble markers,\n",
    "  will be able to mark your notebook."
   ]
  },
  {
   "cell_type": "code",
   "execution_count": 48,
   "metadata": {},
   "outputs": [
    {
     "name": "stdout",
     "output_type": "stream",
     "text": [
      "~~~~~~~~~~~~~~~~~~~~~~~~~~~~~~~~~~~~~~~~~~~~~~~~~~~~~~~~~~~~~~~~~~~~~\n",
      "Running tests\n",
      "\n",
      "---------------------------------------------------------------------\n",
      "Test summary\n",
      "    Passed: 1\n",
      "    Failed: 0\n",
      "[ooooooooook] 100.0% passed\n",
      "\n",
      "~~~~~~~~~~~~~~~~~~~~~~~~~~~~~~~~~~~~~~~~~~~~~~~~~~~~~~~~~~~~~~~~~~~~~\n",
      "Running tests\n",
      "\n",
      "---------------------------------------------------------------------\n",
      "Test summary\n",
      "    Passed: 1\n",
      "    Failed: 0\n",
      "[ooooooooook] 100.0% passed\n",
      "\n",
      "~~~~~~~~~~~~~~~~~~~~~~~~~~~~~~~~~~~~~~~~~~~~~~~~~~~~~~~~~~~~~~~~~~~~~\n",
      "Running tests\n",
      "\n",
      "---------------------------------------------------------------------\n",
      "Test summary\n",
      "    Passed: 1\n",
      "    Failed: 0\n",
      "[ooooooooook] 100.0% passed\n",
      "\n",
      "~~~~~~~~~~~~~~~~~~~~~~~~~~~~~~~~~~~~~~~~~~~~~~~~~~~~~~~~~~~~~~~~~~~~~\n",
      "Running tests\n",
      "\n",
      "---------------------------------------------------------------------\n",
      "Test summary\n",
      "    Passed: 1\n",
      "    Failed: 0\n",
      "[ooooooooook] 100.0% passed\n",
      "\n",
      "~~~~~~~~~~~~~~~~~~~~~~~~~~~~~~~~~~~~~~~~~~~~~~~~~~~~~~~~~~~~~~~~~~~~~\n",
      "Running tests\n",
      "\n",
      "---------------------------------------------------------------------\n",
      "Test summary\n",
      "    Passed: 1\n",
      "    Failed: 0\n",
      "[ooooooooook] 100.0% passed\n",
      "\n",
      "~~~~~~~~~~~~~~~~~~~~~~~~~~~~~~~~~~~~~~~~~~~~~~~~~~~~~~~~~~~~~~~~~~~~~\n",
      "Running tests\n",
      "\n",
      "---------------------------------------------------------------------\n",
      "Test summary\n",
      "    Passed: 1\n",
      "    Failed: 0\n",
      "[ooooooooook] 100.0% passed\n",
      "\n",
      "~~~~~~~~~~~~~~~~~~~~~~~~~~~~~~~~~~~~~~~~~~~~~~~~~~~~~~~~~~~~~~~~~~~~~\n",
      "Running tests\n",
      "\n",
      "---------------------------------------------------------------------\n",
      "Test summary\n",
      "    Passed: 1\n",
      "    Failed: 0\n",
      "[ooooooooook] 100.0% passed\n",
      "\n",
      "~~~~~~~~~~~~~~~~~~~~~~~~~~~~~~~~~~~~~~~~~~~~~~~~~~~~~~~~~~~~~~~~~~~~~\n",
      "Running tests\n",
      "\n",
      "---------------------------------------------------------------------\n",
      "Test summary\n",
      "    Passed: 1\n",
      "    Failed: 0\n",
      "[ooooooooook] 100.0% passed\n",
      "\n",
      "~~~~~~~~~~~~~~~~~~~~~~~~~~~~~~~~~~~~~~~~~~~~~~~~~~~~~~~~~~~~~~~~~~~~~\n",
      "Running tests\n",
      "\n",
      "---------------------------------------------------------------------\n",
      "Test summary\n",
      "    Passed: 1\n",
      "    Failed: 0\n",
      "[ooooooooook] 100.0% passed\n",
      "\n",
      "~~~~~~~~~~~~~~~~~~~~~~~~~~~~~~~~~~~~~~~~~~~~~~~~~~~~~~~~~~~~~~~~~~~~~\n",
      "Running tests\n",
      "\n",
      "---------------------------------------------------------------------\n",
      "Test summary\n",
      "    Passed: 1\n",
      "    Failed: 0\n",
      "[ooooooooook] 100.0% passed\n",
      "\n",
      "~~~~~~~~~~~~~~~~~~~~~~~~~~~~~~~~~~~~~~~~~~~~~~~~~~~~~~~~~~~~~~~~~~~~~\n",
      "Running tests\n",
      "\n",
      "---------------------------------------------------------------------\n",
      "Test summary\n",
      "    Passed: 1\n",
      "    Failed: 0\n",
      "[ooooooooook] 100.0% passed\n",
      "\n",
      "~~~~~~~~~~~~~~~~~~~~~~~~~~~~~~~~~~~~~~~~~~~~~~~~~~~~~~~~~~~~~~~~~~~~~\n",
      "Running tests\n",
      "\n",
      "---------------------------------------------------------------------\n",
      "Test summary\n",
      "    Passed: 1\n",
      "    Failed: 0\n",
      "[ooooooooook] 100.0% passed\n",
      "\n",
      "~~~~~~~~~~~~~~~~~~~~~~~~~~~~~~~~~~~~~~~~~~~~~~~~~~~~~~~~~~~~~~~~~~~~~\n",
      "Running tests\n",
      "\n",
      "---------------------------------------------------------------------\n",
      "Test summary\n",
      "    Passed: 1\n",
      "    Failed: 0\n",
      "[ooooooooook] 100.0% passed\n",
      "\n",
      "~~~~~~~~~~~~~~~~~~~~~~~~~~~~~~~~~~~~~~~~~~~~~~~~~~~~~~~~~~~~~~~~~~~~~\n",
      "Running tests\n",
      "\n",
      "---------------------------------------------------------------------\n",
      "Test summary\n",
      "    Passed: 1\n",
      "    Failed: 0\n",
      "[ooooooooook] 100.0% passed\n",
      "\n",
      "~~~~~~~~~~~~~~~~~~~~~~~~~~~~~~~~~~~~~~~~~~~~~~~~~~~~~~~~~~~~~~~~~~~~~\n",
      "Running tests\n",
      "\n",
      "---------------------------------------------------------------------\n",
      "Test summary\n",
      "    Passed: 2\n",
      "    Failed: 0\n",
      "[ooooooooook] 100.0% passed\n",
      "\n",
      "~~~~~~~~~~~~~~~~~~~~~~~~~~~~~~~~~~~~~~~~~~~~~~~~~~~~~~~~~~~~~~~~~~~~~\n",
      "Running tests\n",
      "\n",
      "---------------------------------------------------------------------\n",
      "Test summary\n",
      "    Passed: 1\n",
      "    Failed: 0\n",
      "[ooooooooook] 100.0% passed\n",
      "\n",
      "~~~~~~~~~~~~~~~~~~~~~~~~~~~~~~~~~~~~~~~~~~~~~~~~~~~~~~~~~~~~~~~~~~~~~\n",
      "Running tests\n",
      "\n",
      "---------------------------------------------------------------------\n",
      "Test summary\n",
      "    Passed: 1\n",
      "    Failed: 0\n",
      "[ooooooooook] 100.0% passed\n",
      "\n"
     ]
    }
   ],
   "source": [
    "# For your convenience, you can run this cell to run all the tests at once!\n",
    "import os\n",
    "_ = [ok.grade(q[:-3]) for q in os.listdir(\"tests\") if q.startswith('q')]"
   ]
  }
 ],
 "metadata": {
  "jupytext": {
   "split_at_heading": true,
   "text_representation": {
    "extension": ".Rmd",
    "format_name": "rmarkdown",
    "format_version": "1.1",
    "jupytext_version": "1.2.4"
   }
  },
  "kernelspec": {
   "display_name": "Python 3",
   "language": "python",
   "name": "python3"
  },
  "language_info": {
   "codemirror_mode": {
    "name": "ipython",
    "version": 3
   },
   "file_extension": ".py",
   "mimetype": "text/x-python",
   "name": "python",
   "nbconvert_exporter": "python",
   "pygments_lexer": "ipython3",
   "version": "3.7.4"
  }
 },
 "nbformat": 4,
 "nbformat_minor": 2
}
